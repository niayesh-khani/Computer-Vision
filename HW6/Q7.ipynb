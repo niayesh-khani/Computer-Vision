{
  "nbformat": 4,
  "nbformat_minor": 0,
  "metadata": {
    "colab": {
      "provenance": []
    },
    "kernelspec": {
      "name": "python3",
      "display_name": "Python 3"
    },
    "language_info": {
      "name": "python"
    }
  },
  "cells": [
    {
      "cell_type": "code",
      "source": [
        "import numpy as np\n",
        "import tensorflow as tf\n",
        "from tensorflow.keras.datasets import mnist\n",
        "from tensorflow.keras.models import Sequential\n",
        "from tensorflow.keras.layers import Conv2D, MaxPooling2D, Flatten, Dense, Dropout\n",
        "from sklearn.metrics import accuracy_score\n",
        "from sklearn.model_selection import train_test_split\n",
        "import matplotlib.pyplot as plt\n",
        "\n",
        "# Load the MNIST dataset\n",
        "(train_images, train_labels), (test_images, test_labels) = mnist.load_data()\n",
        "\n",
        "# Extract a subset of the data containing only the digits 0, 1, and 2\n",
        "train_filter = np.where((train_labels == 0) | (train_labels == 1) | (train_labels == 2))\n",
        "test_filter = np.where((test_labels == 0) | (test_labels == 1) | (test_labels == 2))\n",
        "\n",
        "train_images, train_labels = train_images[train_filter], train_labels[train_filter]\n",
        "test_images, test_labels = test_images[test_filter], test_labels[test_filter]\n",
        "\n",
        "# Normalize the pixel values and reshape for CNN input\n",
        "train_images = train_images.reshape((-1, 28, 28, 1)) / 255.0\n",
        "test_images = test_images.reshape((-1, 28, 28, 1)) / 255.0\n",
        "\n",
        "# Convert labels to one-hot encoding\n",
        "train_labels = tf.keras.utils.to_categorical(train_labels, num_classes=3)\n",
        "test_labels = tf.keras.utils.to_categorical(test_labels, num_classes=3)\n",
        "\n",
        "# Split the training data into training and validation sets\n",
        "X_train, X_val, y_train, y_val = train_test_split(train_images, train_labels, test_size=0.2, random_state=42)\n"
      ],
      "metadata": {
        "colab": {
          "base_uri": "https://localhost:8080/"
        },
        "id": "eGKsDgo2fWKh",
        "outputId": "120acae0-f7e0-42e4-8561-1f970e595edb"
      },
      "execution_count": 1,
      "outputs": [
        {
          "output_type": "stream",
          "name": "stdout",
          "text": [
            "Downloading data from https://storage.googleapis.com/tensorflow/tf-keras-datasets/mnist.npz\n",
            "11490434/11490434 [==============================] - 0s 0us/step\n"
          ]
        }
      ]
    },
    {
      "cell_type": "code",
      "source": [
        "# Build the CNN model\n",
        "model = Sequential([\n",
        "    Conv2D(32, (3, 3), activation='relu', input_shape=(28, 28, 1)),\n",
        "    MaxPooling2D((2, 2)),\n",
        "    Conv2D(64, (3, 3), activation='relu'),\n",
        "    MaxPooling2D((2, 2)),\n",
        "    Flatten(),\n",
        "    Dense(128, activation='relu'),\n",
        "    Dropout(0.5),\n",
        "    Dense(3, activation='softmax')\n",
        "])"
      ],
      "metadata": {
        "id": "jrwv9Fk5fj3S"
      },
      "execution_count": 2,
      "outputs": []
    },
    {
      "cell_type": "code",
      "source": [
        "# Compile the model\n",
        "model.compile(optimizer='adam', loss='categorical_crossentropy', metrics=['accuracy'])"
      ],
      "metadata": {
        "id": "MkbiuAnffKrH"
      },
      "execution_count": 3,
      "outputs": []
    },
    {
      "cell_type": "code",
      "source": [
        "# Train the model\n",
        "history = model.fit(X_train, y_train, epochs=5, batch_size=128, validation_data=(X_val, y_val))"
      ],
      "metadata": {
        "colab": {
          "base_uri": "https://localhost:8080/"
        },
        "id": "u7Jh3D8SfNVj",
        "outputId": "18bb339f-7a85-4173-8fc9-f2024df80af1"
      },
      "execution_count": 4,
      "outputs": [
        {
          "output_type": "stream",
          "name": "stdout",
          "text": [
            "Epoch 1/5\n",
            "117/117 [==============================] - 15s 114ms/step - loss: 0.1105 - accuracy: 0.9647 - val_loss: 0.0245 - val_accuracy: 0.9911\n",
            "Epoch 2/5\n",
            "117/117 [==============================] - 10s 85ms/step - loss: 0.0287 - accuracy: 0.9915 - val_loss: 0.0139 - val_accuracy: 0.9954\n",
            "Epoch 3/5\n",
            "117/117 [==============================] - 12s 100ms/step - loss: 0.0189 - accuracy: 0.9938 - val_loss: 0.0111 - val_accuracy: 0.9957\n",
            "Epoch 4/5\n",
            "117/117 [==============================] - 12s 107ms/step - loss: 0.0152 - accuracy: 0.9948 - val_loss: 0.0084 - val_accuracy: 0.9976\n",
            "Epoch 5/5\n",
            "117/117 [==============================] - 12s 101ms/step - loss: 0.0121 - accuracy: 0.9962 - val_loss: 0.0061 - val_accuracy: 0.9979\n"
          ]
        }
      ]
    },
    {
      "cell_type": "code",
      "source": [
        "# Evaluate the model on the test set\n",
        "test_loss, test_accuracy = model.evaluate(test_images, test_labels)\n",
        "print(f'Test accuracy: {test_accuracy}')"
      ],
      "metadata": {
        "colab": {
          "base_uri": "https://localhost:8080/"
        },
        "id": "Wwar84mmfpkw",
        "outputId": "341f6e92-4592-4fd8-e60e-ecbfd5f61127"
      },
      "execution_count": 5,
      "outputs": [
        {
          "output_type": "stream",
          "name": "stdout",
          "text": [
            "99/99 [==============================] - 1s 8ms/step - loss: 0.0051 - accuracy: 0.9975\n",
            "Test accuracy: 0.9974579215049744\n"
          ]
        }
      ]
    },
    {
      "cell_type": "code",
      "source": [
        "# Display some images and their predicted labels\n",
        "def display_predictions(images, labels, predictions, num_images):\n",
        "    plt.figure(figsize=(10, 10))\n",
        "    for i in range(num_images):\n",
        "        plt.subplot(5, 5, i + 1)\n",
        "        plt.imshow(images[i].reshape(28, 28), cmap='gray')\n",
        "        plt.title(f'True: {np.argmax(labels[i])}, Pred: {np.argmax(predictions[i])}')\n",
        "        plt.axis('off')\n",
        "    plt.show()"
      ],
      "metadata": {
        "id": "7GIlKd6ffyim"
      },
      "execution_count": 6,
      "outputs": []
    },
    {
      "cell_type": "code",
      "source": [
        "# Get predictions on test set\n",
        "test_predictions = model.predict(test_images)\n",
        "\n",
        "# Display predictions\n",
        "display_predictions(test_images, test_labels, test_predictions, 10)"
      ],
      "metadata": {
        "colab": {
          "base_uri": "https://localhost:8080/",
          "height": 388
        },
        "id": "bOilbY--f3CY",
        "outputId": "b65f9c0a-0464-476f-d7b8-0ea1b527befd"
      },
      "execution_count": 7,
      "outputs": [
        {
          "output_type": "stream",
          "name": "stdout",
          "text": [
            "99/99 [==============================] - 1s 8ms/step\n"
          ]
        },
        {
          "output_type": "display_data",
          "data": {
            "text/plain": [
              "<Figure size 1000x1000 with 10 Axes>"
            ],
            "image/png": "[encoded data removed]"
          },
          "metadata": {}
        }
      ]
    }
  ]
}